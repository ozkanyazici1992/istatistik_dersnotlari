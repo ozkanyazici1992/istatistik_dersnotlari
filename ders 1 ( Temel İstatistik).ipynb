{
 "cells": [
  {
   "cell_type": "code",
   "execution_count": 1,
   "metadata": {},
   "outputs": [],
   "source": [
    "import pandas as pd\n",
    "import numpy as np\n",
    "import statistics"
   ]
  },
  {
   "cell_type": "code",
   "execution_count": 2,
   "metadata": {},
   "outputs": [
    {
     "name": "stdout",
     "output_type": "stream",
     "text": [
      "0    a\n",
      "1    b\n",
      "2    c\n",
      "3    d\n",
      "dtype: category\n",
      "Categories (4, object): [a, b, c, d]\n"
     ]
    }
   ],
   "source": [
    "## Nitel Değişken\n",
    "nitel = pd.Series(['a','b','c','d'], dtype=\"category\")\n",
    "print(nitel)\n",
    "# Eğer söz konusu değişken sembollerle ifade ediliyorsa, bu değişkene nitel değişken denilmektedir."
   ]
  },
  {
   "cell_type": "code",
   "execution_count": 3,
   "metadata": {},
   "outputs": [
    {
     "name": "stdout",
     "output_type": "stream",
     "text": [
      "0    1\n",
      "1    3\n",
      "2    5\n",
      "3    7\n",
      "4    9\n",
      "dtype: int64\n"
     ]
    }
   ],
   "source": [
    "## Nicel Değişken\n",
    "nicel=pd.Series([1,3,5,7,9])\n",
    "print(nicel)\n",
    "# Söz konusu değişken sayısal olarak ifade edilebiliyorsa, bu değişkene nicel değişken denilmektedir."
   ]
  },
  {
   "cell_type": "code",
   "execution_count": 4,
   "metadata": {},
   "outputs": [
    {
     "data": {
      "text/html": [
       "<div>\n",
       "<style scoped>\n",
       "    .dataframe tbody tr th:only-of-type {\n",
       "        vertical-align: middle;\n",
       "    }\n",
       "\n",
       "    .dataframe tbody tr th {\n",
       "        vertical-align: top;\n",
       "    }\n",
       "\n",
       "    .dataframe thead th {\n",
       "        text-align: right;\n",
       "    }\n",
       "</style>\n",
       "<table border=\"1\" class=\"dataframe\">\n",
       "  <thead>\n",
       "    <tr style=\"text-align: right;\">\n",
       "      <th></th>\n",
       "      <th>age</th>\n",
       "    </tr>\n",
       "  </thead>\n",
       "  <tbody>\n",
       "    <tr>\n",
       "      <td>0</td>\n",
       "      <td>28</td>\n",
       "    </tr>\n",
       "    <tr>\n",
       "      <td>1</td>\n",
       "      <td>42</td>\n",
       "    </tr>\n",
       "    <tr>\n",
       "      <td>2</td>\n",
       "      <td>27</td>\n",
       "    </tr>\n",
       "    <tr>\n",
       "      <td>3</td>\n",
       "      <td>24</td>\n",
       "    </tr>\n",
       "    <tr>\n",
       "      <td>4</td>\n",
       "      <td>35</td>\n",
       "    </tr>\n",
       "    <tr>\n",
       "      <td>5</td>\n",
       "      <td>54</td>\n",
       "    </tr>\n",
       "    <tr>\n",
       "      <td>6</td>\n",
       "      <td>35</td>\n",
       "    </tr>\n",
       "    <tr>\n",
       "      <td>7</td>\n",
       "      <td>37</td>\n",
       "    </tr>\n",
       "  </tbody>\n",
       "</table>\n",
       "</div>"
      ],
      "text/plain": [
       "   age\n",
       "0   28\n",
       "1   42\n",
       "2   27\n",
       "3   24\n",
       "4   35\n",
       "5   54\n",
       "6   35\n",
       "7   37"
      ]
     },
     "execution_count": 4,
     "metadata": {},
     "output_type": "execute_result"
    }
   ],
   "source": [
    "df = pd.DataFrame()\n",
    "df['age'] = [28, 42, 27, 24, 35, 54, 35, 37]\n",
    "df"
   ]
  },
  {
   "cell_type": "code",
   "execution_count": 5,
   "metadata": {},
   "outputs": [
    {
     "name": "stdout",
     "output_type": "stream",
     "text": [
      "[70.14432809 65.84914636 66.32855714 61.25048352 59.95161414 62.87263955\n",
      " 69.3032087  78.51610735 64.2059779  53.8419144  61.73155735 68.368078\n",
      " 68.711254   79.54872184 63.86151364 78.24057592 64.19550323 54.23599734\n",
      " 69.61881259 68.2095745  67.75180132 53.5989568  69.32224562 60.86910558\n",
      " 62.54868122 71.59117569 48.38755703 59.33374688 48.8471185  68.53297243\n",
      " 73.57921881 67.11413328 62.23413365 80.86112026 65.44196756 74.69325351\n",
      " 64.08027058 79.23286453 74.5547731  72.07077509 65.10603381 80.64200144\n",
      " 75.57293978 75.41460003 78.99938304 78.3617846  81.45795702 73.83311349\n",
      " 68.23360939 61.4869319  78.17962773 71.23531484 70.43985513 58.93161805\n",
      " 66.01705222 67.06234501 66.34109928 56.39246696 74.70415772 80.96239769\n",
      " 63.17198253 73.55684329 70.16813302 70.08320547 77.56256649 54.67112105\n",
      " 74.36883341 76.4859271  65.03582783 66.69846702 91.85085454 62.47585613\n",
      " 67.98060596 93.81367789 71.80753587 60.86978122 64.62358806 59.69198935\n",
      " 77.26791571 68.47533991 70.33409566 70.77636861 66.29343878 72.83518593\n",
      " 64.42564718 71.71643043 76.79815967 86.96620725 59.26519751 79.99718227\n",
      " 69.83566147 67.5797432  71.03672627 71.60660775 61.97490937 72.29755841\n",
      " 66.46414422 50.71468517 71.29138957 58.87146792 59.53631015 58.80037021\n",
      " 67.49236013 61.44285986 67.73174797 67.03558042 69.4919292  67.71080146\n",
      " 63.72134855 64.3386766  61.09591125 63.53310771 68.99781303 56.15333843\n",
      " 66.8077467  63.18789048 65.32013141 64.17003142 64.59837124 64.70329845\n",
      " 68.78612646 64.45047073 63.88920793 68.06732744 60.59853971 64.07612717\n",
      " 58.512007   67.18509621 57.76019341 67.31197944 74.81255142 64.45580181\n",
      " 64.83589958 67.95492798 61.66960359 64.60008786 61.61426357 57.49965211\n",
      " 66.1722345  64.76636054 69.23561423 64.90117439 72.79077014 64.74152454\n",
      " 70.59977374 66.72549654 63.33454657 65.11832177 65.49066906 60.59726112\n",
      " 60.85126891 62.76719725 58.39841324 70.65461603 71.25184987 60.27350164\n",
      " 67.72010032 67.54442435 59.2733084  62.1724368  64.80394268 69.04738602\n",
      " 67.56080822 61.06947461 61.5277589  64.18852662 56.95667077 57.7922141\n",
      " 68.80789117 74.00908464 64.80355064 65.50359997 68.99989015 70.35911342\n",
      " 66.44626123 69.98223487 58.23995327 60.8045042  66.0510247  64.95144445\n",
      " 72.54879943 63.22827254 63.82566908 62.49619278 68.15841511 67.96007533\n",
      " 60.52033065 59.60865803 58.74161835 62.44866279 56.26950929 70.61238874\n",
      " 63.48042248 69.03546443 66.47023464 60.24255758 69.28037237 67.1653024\n",
      " 66.66632533 66.78042986]\n"
     ]
    }
   ],
   "source": [
    "rassal=np.append(np.random.normal(69, 8, 100), np.random.normal(64, 5, 100))\n",
    "print(rassal)"
   ]
  },
  {
   "cell_type": "markdown",
   "metadata": {},
   "source": [
    "1.2.1. Ortalama\n",
    "Ortalama bir değişkenin tüm değerlerinin toplamının alınması ve sonrasında da gözlem sayısına bölünmesiyle bulunan sayıdır. Aynı zamanda değişkenin beklenen değeri olarak da tanımlanır\n",
    "\n",
    "mean = sum(x) / n"
   ]
  },
  {
   "cell_type": "code",
   "execution_count": 6,
   "metadata": {},
   "outputs": [
    {
     "data": {
      "text/plain": [
       "35.25"
      ]
     },
     "execution_count": 6,
     "metadata": {},
     "output_type": "execute_result"
    }
   ],
   "source": [
    "sum(df['age']) / len(df['age'])"
   ]
  },
  {
   "cell_type": "code",
   "execution_count": 7,
   "metadata": {},
   "outputs": [
    {
     "data": {
      "text/plain": [
       "66.7576098625404"
      ]
     },
     "execution_count": 7,
     "metadata": {},
     "output_type": "execute_result"
    }
   ],
   "source": [
    "sum(rassal)/len(rassal)"
   ]
  },
  {
   "cell_type": "code",
   "execution_count": 8,
   "metadata": {},
   "outputs": [
    {
     "name": "stdout",
     "output_type": "stream",
     "text": [
      "35.25\n"
     ]
    }
   ],
   "source": [
    "print(np.mean(df['age']))"
   ]
  },
  {
   "cell_type": "code",
   "execution_count": 9,
   "metadata": {},
   "outputs": [
    {
     "name": "stdout",
     "output_type": "stream",
     "text": [
      "66.75760986254042\n"
     ]
    }
   ],
   "source": [
    "print(np.mean(rassal))"
   ]
  },
  {
   "cell_type": "markdown",
   "metadata": {},
   "source": [
    "1.2.2. Medyan\n",
    "Medyan veriler küçükten büyüğe dizildiğinde ortadaki değerdir. Eğer tek sayıda değer varsa ortadaki değer medyandır, eğer çift sayıda değer varsa ortadaki iki değerin ortalamasıdır."
   ]
  },
  {
   "cell_type": "code",
   "execution_count": 10,
   "metadata": {},
   "outputs": [
    {
     "name": "stdout",
     "output_type": "stream",
     "text": [
      "35.0\n"
     ]
    }
   ],
   "source": [
    "print(statistics.median(df['age']))"
   ]
  },
  {
   "cell_type": "code",
   "execution_count": 11,
   "metadata": {},
   "outputs": [
    {
     "name": "stdout",
     "output_type": "stream",
     "text": [
      "35.0\n"
     ]
    }
   ],
   "source": [
    "print(np.median(df['age']))"
   ]
  },
  {
   "cell_type": "markdown",
   "metadata": {},
   "source": [
    "1.2.3. Mod\n",
    "\n",
    " Mod değerler arasında en sık geçen değeri gösterir. Diğer bir değişle, mod analizi ile veride birden fazla kümelenme olup olmadığı tespit edilir. Eğer iki veya daha fazla değer aynı sayıda tekrar ederse çift mod oluşacaktır. Aşağıdaki kodu çift mod içeren bir veri ile çalıştırsaydınız hata alabilirdiniz. Aşağıdaki kod istisnalar oluşturmadan çift modlu verileri ele alabilecektir, fakat siz ilk modu alacaksınız."
   ]
  },
  {
   "cell_type": "code",
   "execution_count": 12,
   "metadata": {},
   "outputs": [
    {
     "data": {
      "text/plain": [
       "35"
      ]
     },
     "execution_count": 12,
     "metadata": {},
     "output_type": "execute_result"
    }
   ],
   "source": [
    "statistics.mode(df['age'])"
   ]
  },
  {
   "cell_type": "code",
   "execution_count": 13,
   "metadata": {},
   "outputs": [
    {
     "data": {
      "text/plain": [
       "35"
      ]
     },
     "execution_count": 13,
     "metadata": {},
     "output_type": "execute_result"
    }
   ],
   "source": [
    "# Veride setinde en çok tekrar  sayının bulunması\n",
    "(values, counts) = np.unique(df['age'], return_counts=True)\n",
    "\n",
    "# En fazla tekrara eden elemeanların listelenmesi \n",
    "ind = np.argmax(counts)\n",
    "\n",
    "# The most frequent element.\n",
    "values[ind]"
   ]
  },
  {
   "cell_type": "markdown",
   "metadata": {},
   "source": [
    "1.3.1. Varyans\n",
    "Merkezi eğilimi ölçmek önemli olsa da bir değişkeni anlamak için tek başına yeterli değildir. Bunun için dağılım ölçülerine de başvurmak gerekmektedir. Bir değişkeni anlamak için bakmamız gereken diğer bir önemli gösterge ise varyans'tır.\n",
    "\n",
    "Bir değişkenin varyansı, değerlerin merkezi eğilimden ne kadar farklılaştığını ve her bir değerin bir başkasından ne kadar farklılaştığını tanımlar. Bir değişkende tüm değerler merkezi eğilime yakınsa varyans çok küçük olacaktır. Eğer değerler merkezi eğilimden uzakta bulunuyorlarsa varyans çok yüksek olacaktır.\n",
    "\n",
    "Varyansı anlamanın bir diğer yolu ise şudur: Varyans, değişken içinde her bir veri noktası ne kadar değerlidir işte bunun hakkında bir ipucu verir. Eğer varyans düşükse birçok veri noktası merkezi eğilim ile benzerdir, bu nedenle her bir veri noktası ölçüm yapılan kavram hakkında çok az farklı bilgi verebilir. Eğer varyans yüksekse, her bir veri noktası ölçüm hakkında yeni ve farklı bilgiler sunabilecektir."
   ]
  },
  {
   "cell_type": "markdown",
   "metadata": {},
   "source": [
    "Birçok insan ortalamayı bulup onun üzerinde çalışma yaparken, veri bilimciler genellikle varyans üzerinde çalışırlar. Çünkü veri bilimciler araştırma konusu değişkenin neden birbirinden farklı davrandığını anlamaya çalışırlar. Neden bu mağazanın kazanç marjı diğerlerinden çok yüksek? Neden bu ilacın yan etkileri diğer emsal ilaçlara göre çok daha az? Neden bazı müşteriler şirketin web sitesinde daha fazla zaman geçiriyorlar? gibi sorular aslında varyansla ilgilidir. Yüksek varyansa sahip bir değişken gözlemler hakkında farklılıkları ele verir, bu sayede veri bilimciler gelecek çıktıları anlamak için bunları kullanırlar."
   ]
  },
  {
   "cell_type": "markdown",
   "metadata": {},
   "source": [
    "<math xmlns=\"http://www.w3.org/1998/Math/MathML\" display=\"block\">\n",
    "  <mi>v</mi>\n",
    "  <mo>=</mo>\n",
    "  <mfrac>\n",
    "    <mrow>\n",
    "      <mo>&#x2211;<!-- ∑ --></mo>\n",
    "      <mo stretchy=\"false\">(</mo>\n",
    "      <mo stretchy=\"false\">(</mo>\n",
    "      <mi>x</mi>\n",
    "      <mo>&#x2212;<!-- − --></mo>\n",
    "      <mi>&#x03BC;<!-- μ --></mi>\n",
    "      <msup>\n",
    "        <mo stretchy=\"false\">)</mo>\n",
    "        <mn>2</mn>\n",
    "      </msup>\n",
    "      <mo stretchy=\"false\">)</mo>\n",
    "    </mrow>\n",
    "    <mrow>\n",
    "      <mo stretchy=\"false\">(</mo>\n",
    "      <mi>n</mi>\n",
    "      <mo>&#x2212;<!-- − --></mo>\n",
    "      <mn>1</mn>\n",
    "      <mo stretchy=\"false\">)</mo>\n",
    "    </mrow>\n",
    "  </mfrac>\n",
    "</math>"
   ]
  },
  {
   "cell_type": "markdown",
   "metadata": {},
   "source": [
    "Varyans, her bir veri noktasının ortalamaya olan farkının karelerinin toplamının, gözlem sayısının bir eksiğine bölümü ile bulunur.\n",
    "Burada  \n",
    "μ\n",
    "  popülasyon ortalamasını temsil etmektedir.\n",
    "\n",
    "Varyansın hesaplanması ile ilgili iki gariplik var. Neden farkın karesi alınıyor ve neden n ‘e değilde (n-1)’e bölünüyor.\n",
    "\n",
    "İlk soruya cevap olarak, ortalamaya göre sadece fakları alınsaydı toplamı sıfır olurdu çünkü yarısı negatif, yarısı pozitif olacaktı. Karesini alarak negatif değerleri kullanışlı hale getiriyoruz. Tabi ki mutlak değeri alarak hesaplayabilirdik, bu sayede negatif değerleri kullanabilirdik. Karesini almanın başka matematiksel faydaları var bunu sonra tartışacağız. Neden n-1 aldığımızın cevabı ise yanlılıkla (bias) alakalı olduğundan şimdilik tartışmasına girmiyoruz."
   ]
  },
  {
   "cell_type": "code",
   "execution_count": 14,
   "metadata": {},
   "outputs": [
    {
     "name": "stdout",
     "output_type": "stream",
     "text": [
      "92.5\n",
      "92.5\n"
     ]
    }
   ],
   "source": [
    "# Bir verinin varyansını \n",
    "# NumPy ve Pandas ile  hesaplayabiliriz. \n",
    "print(np.var(df['age'], ddof=1))\n",
    "print(df['age'].var())"
   ]
  },
  {
   "cell_type": "markdown",
   "metadata": {},
   "source": [
    "1.3.2. Standart Sapma\n",
    "\n",
    "Değişkenliği ölçmekte en çok kullanılan göstergelerden birisi varyansın karekökünün alınmasıdır, buna standart sapma adını veririz. Varyansın karekökünün alınmasının matematiksel bazı faydaları var fakat bunu ileriki derslerde merkezi limit teoremini anlatırken daha ayrıntılı göreceğiz. \n",
    " Numpy bize np.std() fonksiyonu ile standart sapmayı verir. Popülasyonun standart sapmasını hesaplarken Numpy’ın aldatıcı bir nüansı vardır. N-1 ile bölmek yerine n ile böler. Popülasyonun standart sapmasını hesaplamak için manuel olarak ddof (degrees of freedom-serbestlik derecesi) parametresine ihtiyaç duyarız:"
   ]
  },
  {
   "cell_type": "code",
   "execution_count": 15,
   "metadata": {},
   "outputs": [
    {
     "data": {
      "text/plain": [
       "9.617692030835672"
      ]
     },
     "execution_count": 15,
     "metadata": {},
     "output_type": "execute_result"
    }
   ],
   "source": [
    "np.std(df['age'], ddof=1)"
   ]
  },
  {
   "cell_type": "code",
   "execution_count": 16,
   "metadata": {},
   "outputs": [
    {
     "data": {
      "text/plain": [
       "9.617692030835672"
      ]
     },
     "execution_count": 16,
     "metadata": {},
     "output_type": "execute_result"
    }
   ],
   "source": [
    "92.5**0.5"
   ]
  },
  {
   "cell_type": "markdown",
   "metadata": {},
   "source": [
    "1.3.3. Standart Hata\n",
    "\n",
    "Verideki değişkenliğin tespitinde sıklıkla kullanılan diğer bir gösterge ise standart hatadır. Standart hata örneklem ortalamasının belirsizliğinin bir ölçüsüdür. Standart sapma bize varyans hakkında bilgi verirken, standart hata bize ortalama hakkında bilgi verir.\n",
    "\n",
    "Anket sonuçları standart hata kullanımı için güzel bir örnektir. Genellikle hata marjı olarak bilinir. Örneğin bir anket sonucu %44 ‘ün X ‘i desteklediğini söyler ve %3 standart hata olabileceğini söyler. Diğer bir deyişle seçim bittiğinde sonuçlar %41 ile %47 arasında olabilir demektir. Standart hata ne kadar küçük olursa ortalamanın bize daha kesin ölçüldüğünü anlatır.\n",
    "\n",
    "Standart hata, standart sapmanın gözlem sayısının kareköküne bölünmesiyle bulunur:"
   ]
  },
  {
   "cell_type": "markdown",
   "metadata": {},
   "source": [
    "se=s/(karekök n)"
   ]
  },
  {
   "cell_type": "code",
   "execution_count": 17,
   "metadata": {
    "scrolled": true
   },
   "outputs": [
    {
     "data": {
      "text/plain": [
       "3.4003676271838605"
      ]
     },
     "execution_count": 17,
     "metadata": {},
     "output_type": "execute_result"
    }
   ],
   "source": [
    "np.std(df['age'] ,ddof=1) / np.sqrt(len(df['age']))"
   ]
  },
  {
   "cell_type": "code",
   "execution_count": 18,
   "metadata": {},
   "outputs": [],
   "source": [
    "data = pd.DataFrame()\n",
    "data['gender'] = ['male'] * 100 + ['female'] * 100\n",
    "data['height'] = np.append(np.random.normal(69, 8, 100), np.random.normal(64, 5, 100))\n",
    "data['weight'] = np.append(np.random.normal(195, 25, 100), np.random.normal(166, 15, 100))"
   ]
  },
  {
   "cell_type": "code",
   "execution_count": 19,
   "metadata": {},
   "outputs": [
    {
     "name": "stdout",
     "output_type": "stream",
     "text": [
      "<class 'pandas.core.frame.DataFrame'>\n",
      "RangeIndex: 200 entries, 0 to 199\n",
      "Data columns (total 3 columns):\n",
      "gender    200 non-null object\n",
      "height    200 non-null float64\n",
      "weight    200 non-null float64\n",
      "dtypes: float64(2), object(1)\n",
      "memory usage: 4.8+ KB\n"
     ]
    }
   ],
   "source": [
    "## Verinin yapısı ile ilgili bilgi edinme  \n",
    "data.info()"
   ]
  },
  {
   "cell_type": "code",
   "execution_count": 20,
   "metadata": {},
   "outputs": [
    {
     "data": {
      "text/html": [
       "<div>\n",
       "<style scoped>\n",
       "    .dataframe tbody tr th:only-of-type {\n",
       "        vertical-align: middle;\n",
       "    }\n",
       "\n",
       "    .dataframe tbody tr th {\n",
       "        vertical-align: top;\n",
       "    }\n",
       "\n",
       "    .dataframe thead th {\n",
       "        text-align: right;\n",
       "    }\n",
       "</style>\n",
       "<table border=\"1\" class=\"dataframe\">\n",
       "  <thead>\n",
       "    <tr style=\"text-align: right;\">\n",
       "      <th></th>\n",
       "      <th>gender</th>\n",
       "      <th>height</th>\n",
       "      <th>weight</th>\n",
       "    </tr>\n",
       "  </thead>\n",
       "  <tbody>\n",
       "    <tr>\n",
       "      <td>0</td>\n",
       "      <td>male</td>\n",
       "      <td>76.864034</td>\n",
       "      <td>181.978178</td>\n",
       "    </tr>\n",
       "    <tr>\n",
       "      <td>1</td>\n",
       "      <td>male</td>\n",
       "      <td>78.495321</td>\n",
       "      <td>202.100141</td>\n",
       "    </tr>\n",
       "    <tr>\n",
       "      <td>2</td>\n",
       "      <td>male</td>\n",
       "      <td>60.502457</td>\n",
       "      <td>224.076265</td>\n",
       "    </tr>\n",
       "    <tr>\n",
       "      <td>3</td>\n",
       "      <td>male</td>\n",
       "      <td>79.814756</td>\n",
       "      <td>196.391123</td>\n",
       "    </tr>\n",
       "    <tr>\n",
       "      <td>4</td>\n",
       "      <td>male</td>\n",
       "      <td>66.009547</td>\n",
       "      <td>216.122472</td>\n",
       "    </tr>\n",
       "  </tbody>\n",
       "</table>\n",
       "</div>"
      ],
      "text/plain": [
       "  gender     height      weight\n",
       "0   male  76.864034  181.978178\n",
       "1   male  78.495321  202.100141\n",
       "2   male  60.502457  224.076265\n",
       "3   male  79.814756  196.391123\n",
       "4   male  66.009547  216.122472"
      ]
     },
     "execution_count": 20,
     "metadata": {},
     "output_type": "execute_result"
    }
   ],
   "source": [
    "##  Verinin ilk 5 satırına ilişkin bilgi\n",
    "data.head()"
   ]
  },
  {
   "cell_type": "code",
   "execution_count": 21,
   "metadata": {},
   "outputs": [
    {
     "data": {
      "text/plain": [
       "66.34215553987437"
      ]
     },
     "execution_count": 21,
     "metadata": {},
     "output_type": "execute_result"
    }
   ],
   "source": [
    "## Uzunluk (height) verisinin ortalaması\n",
    "data.height.mean()"
   ]
  },
  {
   "cell_type": "code",
   "execution_count": 22,
   "metadata": {},
   "outputs": [
    {
     "data": {
      "text/plain": [
       "7.608296609374054"
      ]
     },
     "execution_count": 22,
     "metadata": {},
     "output_type": "execute_result"
    }
   ],
   "source": [
    "### Uzunluk verisinin standart sapması\n",
    "data.height.std()"
   ]
  },
  {
   "cell_type": "code",
   "execution_count": 23,
   "metadata": {},
   "outputs": [
    {
     "name": "stdout",
     "output_type": "stream",
     "text": [
      "Ağırlık ortalaması: 181.78872588008716\n"
     ]
    }
   ],
   "source": [
    "# Ağırlık (weight) verisinin içerisinde \n",
    "# yer alan boşlukların aynı verinin ortalaması \n",
    "# ile değiştirilmesi\n",
    "# Önce ağırlık verisinin ortalamasını hesaplayalım\n",
    "# daha sonra boş verileri bu ortalama ile dolduralım\n",
    "weight_mean = data.weight.mean()\n",
    "data.weight.fillna(weight_mean)\n",
    "print(\"Ağırlık ortalaması: {}\".format(weight_mean))"
   ]
  }
 ],
 "metadata": {
  "kernelspec": {
   "display_name": "Python 3",
   "language": "python",
   "name": "python3"
  },
  "language_info": {
   "codemirror_mode": {
    "name": "ipython",
    "version": 3
   },
   "file_extension": ".py",
   "mimetype": "text/x-python",
   "name": "python",
   "nbconvert_exporter": "python",
   "pygments_lexer": "ipython3",
   "version": "3.7.4"
  }
 },
 "nbformat": 4,
 "nbformat_minor": 2
}
