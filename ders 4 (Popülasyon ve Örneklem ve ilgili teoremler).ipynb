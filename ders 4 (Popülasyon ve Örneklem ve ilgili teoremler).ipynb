{
 "cells": [
  {
   "cell_type": "markdown",
   "metadata": {},
   "source": [
    "- Popülasyon ve Örneklem\n",
    "- Merkezi Limit Teoremi\n",
    "- Büyük Sayılar Yasası"
   ]
  },
  {
   "cell_type": "markdown",
   "metadata": {},
   "source": [
    "# 1. Popülasyon ve Örneklem"
   ]
  },
  {
   "cell_type": "markdown",
   "metadata": {},
   "source": [
    "Python ile örneklem almak için Numpy kütüphanesinde ki random modülünde yer alan choice fonksiyonunu kullanabiliriz. Bunun için öncelikle bir popülasyuna ihtiyacımız olacak. Bu herhangi bir veri olabilir. Biz şimdilik popülasyonu da kendimiz oluşturalım. Bunun için ise aynı modülün içinden normal fonksiyonunu kullanarak ortalaması 10 ve standart sapması 0.2 olan 10000 sayıdan oluşan bir popülasyon oluşturalım ve içinden 500 elemanlık bir örneklem seçelim."
   ]
  },
  {
   "cell_type": "code",
   "execution_count": 1,
   "metadata": {},
   "outputs": [],
   "source": [
    "import numpy as np\n",
    "populasyon = np.random.normal(10, 0.2, 10000)\n",
    "orneklem = np.random.choice(populasyon, 500)\n",
    "# Artık elimizde normal dağılımlı 10000 elemanlı bir popülasyon ve bu popülasyondan alınmış 500 elemanlı bir örneklem var."
   ]
  },
  {
   "cell_type": "code",
   "execution_count": 2,
   "metadata": {},
   "outputs": [
    {
     "name": "stdout",
     "output_type": "stream",
     "text": [
      "Popülasyon için oran :  15.75\n",
      "Örneklem için oran   :  20.200000000000003\n"
     ]
    }
   ],
   "source": [
    "print('Popülasyon için oran : ', len(populasyon[populasyon > 10.2])/len(populasyon)*100)\n",
    "print('Örneklem için oran   : ', len(orneklem[orneklem > 10.2])/len(orneklem)*100)\n",
    "# popülasyon ve örneklemde yer alan 10.2 den büyük sayıların oranına bakalım."
   ]
  },
  {
   "cell_type": "markdown",
   "metadata": {},
   "source": [
    "Oranlar eşit olmasa da birbirine yakın. Ancak örneklemimiz belirli bir hata payıyla popülasyon hakkkında bilgi verdi."
   ]
  },
  {
   "cell_type": "markdown",
   "metadata": {},
   "source": [
    "# 2. Merkezi Limit Teoremi (Central Limit Theorem)"
   ]
  },
  {
   "cell_type": "markdown",
   "metadata": {},
   "source": [
    "Merkezi Limit Teoremi, normal dağılımın önemini gösteren bir teoremdir. Buna göre, örneklem sayısı arttıkça, örneklem dağılımınin ortalaması aynı popülasyon ortalamasına yaklaşmaktadır. Merkezi Limit Teoremi, belirli bir popülasyondan tekrar tekrar alınan örneklem ortalamasının dağılımının şeklinin tam olarak ne olacağı ile ilgilidir. Spesifik olarak, örneklem büyüklükleri arttıkça, tekrarlanan örneklemin ortalamasının dağılımı normal dağılıma yaklaşacaktır."
   ]
  },
  {
   "cell_type": "markdown",
   "metadata": {},
   "source": [
    "Merkezi Limit Teoreminin geçerli olması için bazı şartların yerine getirilmesi gerekmektedir. Bunlar, örneklemlerin birbirinden bağımsız olması ve eş bir dağılıma sahip olmasıdır (Independent and identically distributed). Merkezi limit teoremi popülasyonun dağılımına ilişkin herhangi bir ek varsayımda bulunmamaktadır. Zar örneği üzerinden düşünecek olursak bir zar atışının önceki atıştan bağımsız ve her atışta çıkabilecek sayıların çıkma olasılığı aynı olması şartları sağlamaktadır."
   ]
  },
  {
   "cell_type": "markdown",
   "metadata": {},
   "source": [
    "### 2.3. Örneklemdeki Grupların Karşılaştırılması"
   ]
  },
  {
   "cell_type": "markdown",
   "metadata": {},
   "source": [
    "- Birinci binom dağılım değişkeni : p = 0.2, n = 10 ve 10000 veri noktası (grup1)\n",
    "- İkinci binom dağılım değişkeni : p = 0.5, n = 10 ve 10000 veri noktası (grup2)\n",
    "\n",
    "İki popülasyon arasındaki gerçek standart sapma farkı 0.3'tür."
   ]
  },
  {
   "cell_type": "code",
   "execution_count": 3,
   "metadata": {},
   "outputs": [
    {
     "data": {
      "image/png": "[encoded data removed]",
      "text/plain": [
       "<Figure size 576x360 with 1 Axes>"
      ]
     },
     "metadata": {
      "needs_background": "light"
     },
     "output_type": "display_data"
    }
   ],
   "source": [
    "import numpy as np\n",
    "import matplotlib.pyplot as plt\n",
    "%matplotlib inline\n",
    "plt.figure(figsize=(8,5))\n",
    "\n",
    "pop1 = np.random.binomial(10, 0.2, 10000)\n",
    "pop2 = np.random.binomial(10,0.5, 10000) \n",
    "\n",
    "plt.hist(pop1, alpha=0.5, label='Popülasyon 1') \n",
    "plt.hist(pop2, alpha=0.5, label='Popülasyon 2') \n",
    "plt.legend(loc='upper right') \n",
    "plt.show()"
   ]
  },
  {
   "cell_type": "markdown",
   "metadata": {},
   "source": [
    "Popülasyonlar normal dağılımlı değil. Şimdi, her popülasyondan 100'er elemanlı örneklemler alalım ve bu örneklemlerin histogramını çizelim."
   ]
  },
  {
   "cell_type": "code",
   "execution_count": 4,
   "metadata": {},
   "outputs": [
    {
     "data": {
      "image/png": "[encoded data removed]",
      "text/plain": [
       "<Figure size 576x360 with 1 Axes>"
      ]
     },
     "metadata": {
      "needs_background": "light"
     },
     "output_type": "display_data"
    }
   ],
   "source": [
    "plt.figure(figsize=(8,5))\n",
    "\n",
    "orneklem1 = np.random.choice(pop1, 100, replace=True)\n",
    "orneklem2 = np.random.choice(pop2, 100, replace=True)\n",
    "\n",
    "plt.hist(orneklem1, alpha=0.5, label='Örneklem 1') \n",
    "plt.hist(orneklem2, alpha=0.5, label='Örneklem 2') \n",
    "plt.legend(loc='upper right') \n",
    "plt.show()"
   ]
  },
  {
   "cell_type": "code",
   "execution_count": 5,
   "metadata": {},
   "outputs": [
    {
     "name": "stdout",
     "output_type": "stream",
     "text": [
      "1. Örneklemin ortalaması :  2.03\n",
      "2. Örneklemin ortalaması :  5.11\n",
      "1. Örneklemin standart sapması :  1.1700854669638454\n",
      "2. Örneklemin standart sapması :  1.6905324604987622\n"
     ]
    }
   ],
   "source": [
    "\n",
    "print(\"1. Örneklemin ortalaması : \", orneklem1.mean())\n",
    "print(\"2. Örneklemin ortalaması : \", orneklem2.mean())\n",
    "print(\"1. Örneklemin standart sapması : \", orneklem1.std())\n",
    "print(\"2. Örneklemin standart sapması : \", orneklem2.std())"
   ]
  },
  {
   "cell_type": "markdown",
   "metadata": {},
   "source": [
    "Şimdi standart sapmaların ortalamaların farkına bakalım."
   ]
  },
  {
   "cell_type": "code",
   "execution_count": 6,
   "metadata": {},
   "outputs": [
    {
     "name": "stdout",
     "output_type": "stream",
     "text": [
      "3.0800000000000005\n"
     ]
    }
   ],
   "source": [
    "fark = orneklem2.mean() - orneklem1.mean()\n",
    "print(fark)"
   ]
  },
  {
   "cell_type": "markdown",
   "metadata": {},
   "source": [
    "Şimdi de, örneklem dağılımının standart hatasını hesaplayalım. İlk olarak, her bir değişkenin boyutunu ve standart sapmasını içeren birer dizi oluşturalım. Örneklemlerin boyutlarını biliyoruz, ancak onları yine de hesaplayalım."
   ]
  },
  {
   "cell_type": "code",
   "execution_count": 7,
   "metadata": {},
   "outputs": [],
   "source": [
    "boyut = np.array([len(orneklem1), len(orneklem2)])\n",
    "sd = np.array([orneklem1.std(), orneklem2.std()])\n",
    "fark_se = (sum(sd ** 2 / boyut)) ** 0.5 "
   ]
  },
  {
   "cell_type": "markdown",
   "metadata": {},
   "source": [
    "Ortalamalar arasındaki farkı standart hataya bölerek t-istatistiğini hesaplayalım."
   ]
  },
  {
   "cell_type": "code",
   "execution_count": 8,
   "metadata": {},
   "outputs": [
    {
     "name": "stdout",
     "output_type": "stream",
     "text": [
      "14.980785738056209\n"
     ]
    }
   ],
   "source": [
    "print(fark/fark_se)"
   ]
  },
  {
   "cell_type": "markdown",
   "metadata": {},
   "source": [
    "Şimdi bu değeri farklı bir yöntemle daha hesaplayalım. Bu kez, “istatistik” olarak da adlandırılan t-değerini ve “p-değeri” olarak adlandırılırılan olasılığı scipy kütüphanesindeki stats modülünde yer alan ttest_ind fonksiyonunu kullanarak hesaplayacağız. Bizim hesapladığımız t-değeri ile fonksiyonun hesapladığı t-değeri birbirinden biraz farklı (1/100 hassasiyetle) olabilir. İki hesaplama arasındaki bu küçük farklılık çoklu adım yaklaşımımızın (multiple step approach) neden olduğu yuvarlama farklılıklarından kaynaklandığını söyleyebiliriz."
   ]
  },
  {
   "cell_type": "code",
   "execution_count": 9,
   "metadata": {},
   "outputs": [
    {
     "name": "stdout",
     "output_type": "stream",
     "text": [
      "Ttest_indResult(statistic=-14.90569360735195, pvalue=4.932633459658053e-33)\n"
     ]
    }
   ],
   "source": [
    "from scipy.stats import ttest_ind\n",
    "ttest_degeri = ttest_ind(orneklem1, orneklem2, equal_var=False)\n",
    "print(ttest_degeri)"
   ]
  },
  {
   "cell_type": "markdown",
   "metadata": {},
   "source": [
    "t değeri, iki grup arasındaki farkı, iki örneklemdeki varyans miktarı ile ölçeklendirir. Örneklemlerdeki yüksek değişkenlik, ortalamaları çok farklı görünen gruplara öncülük edebilir. Ancak histograma baktığımızda, örneklem gruplarındaki değerlerin çoğunun örtüştüğünü görürüz. Gruplar, değerlerin dağılımının geniş olduğu kadar değişkenlerdir. Örneğin, Olimpiyat yarışları erkekler ve kadınlar olarak ayrılır çünkü erkekler ortalama olarak kadınlardan daha hızlıdır. Bununla birlikte, kadınların New York maratonunda koşu hızının dağılımına bakarak, (ki burada kadınlar ve erkekler birlikte koşarlar), koşu hızının yüksek derecede değişkenliğe sahip olduğu açıktır ve erkekler ile kadınlar için dağılımlar çok fazla örtüşmektedir.\n",
    "\n",
    "Bir t-değerini yorumlamanın bir yolu, grup ortalamalarıyla ayrılan alan kadar standart hataların sayısıdır. 2'lik bir t değeri, ortalamaların birbirinden iki standart hata uzaklığında olduğunu gösterir. Bir t testi ile ilişkili p değeri, örneklemlerde bu büyüklükte veya popülasyonlar farklı değilse daha büyük bir fark elde etme olasılığını gösterir. Daha küçük p değeri, kuvvetle muhtemel örneklemlerde gördüğümüz farklılığın popülasyonları anlamlı bir şekilde yansıtmasıdır. Yukarıda yaptığınız testteki p değeri gerçekten çok küçüktür, bu yüzden, ortalamalar arasında gördüğümüz farkın, örneklemdeki değişkenlikten dolayı değil, popülasyondaki gerçek bir farklılık olduğundan emin olabiliriz."
   ]
  },
  {
   "cell_type": "markdown",
   "metadata": {},
   "source": [
    "# 3. Büyük Sayılar Yasası (Law of Large Numbers)"
   ]
  },
  {
   "cell_type": "markdown",
   "metadata": {},
   "source": [
    "Büyük sayılar yasasına göre, örneklem sayısı büyüdükçe, örneklem ortalaması popülasyonun ortalamasına yaklaşmaktadır. Bu yaklaşım, bize örneklem sayısının önemini anlatmaktadır. Basitçe, örneklem sayısı ne kadar fazla olursa, ilgili örneklem popülasyonu o kadar iyi temsil etmektedir.\n",
    "\n",
    "Büyük Sayılar Yasası çok basittir: eş bir dağılıma sahip ve rassal olarak seçilen değişkenlerden oluşan örneklemin sayısı arttıkça, örneklem ortalaması teorik ortalamaya yaklaşır."
   ]
  },
  {
   "cell_type": "code",
   "execution_count": 10,
   "metadata": {},
   "outputs": [],
   "source": [
    "örneklem = []\n",
    "örneklem_ortalamaları = []\n",
    "for atış_sayısı in range(1,2000):\n",
    "    atış = np.random.randint(low=1,high=7, size=1)[0]\n",
    "    örneklem.append(atış)\n",
    "    örneklem_ortalamaları.append(np.mean(örneklem))\n",
    "# Örneğimizde 2000 defa zar atacağız.\n",
    "# Zar attıkça çıkan zarı örneklemimize eklerken, bir taraftan da örneklemin ortalamasını ayrı bir listeye atacağız."
   ]
  },
  {
   "cell_type": "code",
   "execution_count": 11,
   "metadata": {},
   "outputs": [
    {
     "name": "stdout",
     "output_type": "stream",
     "text": [
      "[1, 2, 2, 4, 1, 6, 1, 4, 6, 5]\n",
      "[1.0, 1.5, 1.6666666666666667, 2.25, 2.0, 2.6666666666666665, 2.4285714285714284, 2.625, 3.0, 3.2]\n"
     ]
    }
   ],
   "source": [
    "print(örneklem[0:10])\n",
    "print(örneklem_ortalamaları[0:10])"
   ]
  },
  {
   "cell_type": "code",
   "execution_count": 12,
   "metadata": {},
   "outputs": [],
   "source": [
    "def orneklem_plotla(örneklem_ortalaması,orneklem_sayisi, subplot_no):\n",
    "    baslik_font = {'family': 'arial', 'color': 'darkred','weight': 'bold','size': 13 }\n",
    "    eksen_font  = {'family': 'arial', 'color': 'darkblue','weight': 'bold','size': 10 }\n",
    "    plt.subplot(subplot_no)\n",
    "    plt.hlines(3.5, 0, orneklem_sayisi, colors= 'r' )\n",
    "    plt.plot(örneklem_ortalaması[0:orneklem_sayisi])\n",
    "    plt.ylim((1,6))\n",
    "    plt.title(\"Örneklem Sayısı = {}\".format(orneklem_sayisi), fontdict = baslik_font)\n",
    "    plt.xlabel(\"Örneklem Sayısı\", fontdict = eksen_font)\n",
    "    plt.ylabel(\"Örneklem Ortalaması\", fontdict = eksen_font)\n",
    "    return plt"
   ]
  },
  {
   "cell_type": "code",
   "execution_count": 13,
   "metadata": {},
   "outputs": [
    {
     "data": {
      "image/png": "[encoded data removed]",
      "text/plain": [
       "<Figure size 1500x300 with 3 Axes>"
      ]
     },
     "metadata": {
      "needs_background": "light"
     },
     "output_type": "display_data"
    }
   ],
   "source": [
    "plt.figure(figsize=(15,3), dpi=100)\n",
    "orneklem_plotla(örneklem_ortalamaları,100, 131) \n",
    "# 131 --> 1 satır ve 3 sütunluk subplot, 1.subplot\n",
    "orneklem_plotla(örneklem_ortalamaları, 500, 132)\n",
    "orneklem_plotla(örneklem_ortalamaları, 2000, 133)\n",
    "plt.show()"
   ]
  }
 ],
 "metadata": {
  "kernelspec": {
   "display_name": "Python 3",
   "language": "python",
   "name": "python3"
  },
  "language_info": {
   "codemirror_mode": {
    "name": "ipython",
    "version": 3
   },
   "file_extension": ".py",
   "mimetype": "text/x-python",
   "name": "python",
   "nbconvert_exporter": "python",
   "pygments_lexer": "ipython3",
   "version": "3.7.4"
  }
 },
 "nbformat": 4,
 "nbformat_minor": 2
}
