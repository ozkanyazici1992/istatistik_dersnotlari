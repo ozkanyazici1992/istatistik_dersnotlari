{
 "cells": [
  {
   "cell_type": "markdown",
   "metadata": {},
   "source": [
    "# 1. Olasılığa Giriş"
   ]
  },
  {
   "cell_type": "markdown",
   "metadata": {},
   "source": [
    "### 1.1.1. Frekansçı yaklaşım\n",
    "Bu yaklaşıma göre olasılık, bir deney tekrar tekrar yapılırsa bir çıktının kaç kere meydana geleceğini sayılarak buluruz. Örneğin, bir yazı tura oyununda paranın yazı ya da tura gelmesi, yazı tura atmanın defalarca tekrarlanması sonucunda bulunur. Olasılık bilimi açısından bakıldığında bu yaklaşım geleneksel olarak nitelendirilebiliriz. Çünkü, bayesci yaklaşım, modern uygulamaların temelini oluşturmakta ve özellikle yoğun hesaplamaların söz konusu olduğu günümüz uygulamalarına farklı bir yaklaşım getirmektedir."
   ]
  },
  {
   "cell_type": "markdown",
   "metadata": {},
   "source": [
    "### 1.1.2. Bayesci yaklaşım\n",
    "Bu yaklaşıma göre olasılık, bir gözlemcinin geçmiş tecrübeleri ve bilgisine dayanarak bir olayın meydana gelme ihtimalidir (likelihood). Buna göre, olay her vuku bulduğunda gözlemci de olayın olasılığını gözlemine göre günceller. Olay meydana gelmeden önce gözlemcinin beklediği olasılığa öncül olasılık (prior probability), olay meydana geldikten sonra hesapladığı olasılığa ise artçıl olasılık (posterior probability) denilir."
   ]
  },
  {
   "cell_type": "markdown",
   "metadata": {},
   "source": [
    "P(A|B) = P(B|A)*P(A)/P(B)"
   ]
  },
  {
   "cell_type": "markdown",
   "metadata": {},
   "source": [
    "Burada, P(A|B) terimi A olayının B olayının gerçekleşme olasılığına göre olasılığını ifade eder.\n",
    "- P(A) öncül olasılığı\n",
    "- P(A|B) artçıl olasılığı\n",
    "- P(B|A)olasılığı B gerçekleştiğinde A'nın durumu hakkında bilgiyi\n",
    "- P(B) bütün olasılıkların göz önüne alındığı durumu"
   ]
  },
  {
   "cell_type": "markdown",
   "metadata": {},
   "source": [
    "!!! Frekansçılar elimizdeki verinin, (bilmesek bile) gerçek popülasyon değerinden olma ihtimaline bakarlarken; Bayesciler, elimizdeki veriye göre en olası popülasyon değerini bulmak üzerinde dururlar. Bu yüzdendir ki, Bayesciler her yeni gözlemde gerçek popülasyon değeri için olan düşüncelerini güncellerler."
   ]
  },
  {
   "cell_type": "markdown",
   "metadata": {},
   "source": [
    "# 1.2. Olasılığa ilişkin bazı kavramlar"
   ]
  },
  {
   "cell_type": "markdown",
   "metadata": {},
   "source": [
    "### 1.2.1. Rastgelelik"
   ]
  },
  {
   "cell_type": "markdown",
   "metadata": {},
   "source": [
    "Olasılık, rastgelelik dediğimiz kavram açısından da son derece önemlidir. Yazı tura deneyinde olduğu gibi rastgelelik dediğimiz şey, tüm olası çıktıların eşit olasılıkla meydana geldiği durumları ifade eder. Dolayısıyla rastgelelik, bir veri bilimcinin çalışma alanına girer.\n",
    "\n",
    "Şu gerçeği iyi anlamak gerekir: Üzerinde çalışacağımız verilerin birçoğu popülasyon değil, popülasyondan alınmış örneklemdir. Örneğin, Türkiye'deki tüm kanser hastalarının verisine ulaşmamız mümkün olmayabilir. Fakat, bir hastane verisine erişim sağlamış olabilirsiniz. Dolayısıyla, analizlerinize konu olacak verilerin birçoğu örneklem mahiyetinde olacaktır. Önemli olan, elinizdeki örneklemin gerçek popülasyonu iyi temsil edip etmediğidir."
   ]
  },
  {
   "cell_type": "markdown",
   "metadata": {},
   "source": [
    "### 1.2.2. Seçim Yanlılığı\n",
    "Örnekleminiz ve gerçek popülasyon arasındaki sistematik farklılıklara seçim yanlılığı (selection bias) denir. Yani örneklemdeki bireyler popülasyonun genelinden farklılık sergilerlerse, örneğin: maddi durumu daha iyi, daha genç, eğitim düzeyi yüksek vs., örneklemde seçim yanlılığı var demektir ve bu örneklem üzerinde yapacağınız analizleri popülasyona genelleyemezsiniz."
   ]
  },
  {
   "cell_type": "markdown",
   "metadata": {},
   "source": [
    "### 1.2.3. Bağımsızlık\n",
    "Olasılık teorisinde, eğer iki olay birbirinden bağımsız olarak meydana geliyorlarsa bunlara bağımsız olaylar deriz. Yani bir olayın sonucu diğer bir olayı hiçbir şekilde etkilemiyorsa bu olaylar bağımsızdır. Örneğin, bir yazı tura oyununda parayı ilk attığınızda gelen değer bir sonraki atışınızda gelecek değeri etkilemez. Dolayısıyla, bu iki olay birbirinden bağımsız olaylardır."
   ]
  },
  {
   "cell_type": "markdown",
   "metadata": {},
   "source": [
    "# 1.2.4. Birleşik olasılık\n",
    "Eğer iki olay birbirinden bağımsız değilse, birleşik (joint) olasılıktan bahsedilir. Birleşik olasılık iki veya daha çok olasılığın kesişimini ifade etmektedir."
   ]
  },
  {
   "cell_type": "markdown",
   "metadata": {},
   "source": [
    "### 1.2.5. Marjinal olasılık\n",
    "A bir olaylar kümesi olsun ve varsayımsal olarak A olayı, B olayından bağımsız olmasın. Bu durumda B olayının gerçekleşme olasılığı temel alınarak A'nın gerçekleşme olasılığına marjinal olasılık denilmektedir."
   ]
  },
  {
   "cell_type": "markdown",
   "metadata": {},
   "source": [
    "### 1.2.6. Koşullu olasılık\n",
    "A olayının gerçekleşmesi B'nin gerçeklemesini etkilemekte veya tam tersi olarak B olayının gerçekleşmesi, A'nın gerçekleşmesini etkilemekte ise, bu durumda koşullu olasılıktan bahsedilebilir. Daha önce Bayes Teorisinde gördüğümüz formül ile ifade edilen koşullu olasılık B olayı gerçekleştiğinde A'nın gerçekleşme olasılığı olarak özetlenebilir."
   ]
  }
 ],
 "metadata": {
  "kernelspec": {
   "display_name": "Python 3",
   "language": "python",
   "name": "python3"
  },
  "language_info": {
   "codemirror_mode": {
    "name": "ipython",
    "version": 3
   },
   "file_extension": ".py",
   "mimetype": "text/x-python",
   "name": "python",
   "nbconvert_exporter": "python",
   "pygments_lexer": "ipython3",
   "version": "3.7.4"
  }
 },
 "nbformat": 4,
 "nbformat_minor": 2
}
